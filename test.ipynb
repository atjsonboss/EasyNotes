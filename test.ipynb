{
 "cells": [
  {
   "cell_type": "code",
   "execution_count": 1,
   "id": "469d0994-b36f-4a0a-aa26-7974a47df8b0",
   "metadata": {},
   "outputs": [
    {
     "name": "stdout",
     "output_type": "stream",
     "text": [
      "Hello, World! 👋\n",
      "Bienvenido a tu primer notebook en la nube! 🚀\n",
      "Ejecuta celdas con Shift + Enter\n"
     ]
    },
    {
     "name": "stdin",
     "output_type": "stream",
     "text": [
      "¿Cuál es tu nombre? ✍️:  a\n"
     ]
    },
    {
     "name": "stdout",
     "output_type": "stream",
     "text": [
      "Mucho gusto, a! 😊\n"
     ]
    }
   ],
   "source": [
    "import time\n",
    "\n",
    "def hello_world():\n",
    "    print(\"Hello, World! 👋\")\n",
    "    time.sleep(1)\n",
    "    print(\"Bienvenido a tu primer notebook en la nube! 🚀\")\n",
    "    print(\"Ejecuta celdas con Shift + Enter\")\n",
    "\n",
    "# Llamar a la función hello_world\n",
    "hello_world()\n",
    "\n",
    "# Pregunta interactiva para el alumno\n",
    "nombre = input(\"¿Cuál es tu nombre? ✍️: \")\n",
    "print(f\"Mucho gusto, {nombre}! 😊\")\n"
   ]
  },
  {
   "cell_type": "code",
   "execution_count": null,
   "id": "ecd51747-2853-4f5c-88ac-3ff25d5dfcfb",
   "metadata": {},
   "outputs": [],
   "source": []
  }
 ],
 "metadata": {
  "kernelspec": {
   "display_name": "Python 3 (ipykernel)",
   "language": "python",
   "name": "python3"
  },
  "language_info": {
   "codemirror_mode": {
    "name": "ipython",
    "version": 3
   },
   "file_extension": ".py",
   "mimetype": "text/x-python",
   "name": "python",
   "nbconvert_exporter": "python",
   "pygments_lexer": "ipython3",
   "version": "3.11.11"
  }
 },
 "nbformat": 4,
 "nbformat_minor": 5
}
